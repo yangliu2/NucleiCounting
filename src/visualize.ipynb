{
 "cells": [
  {
   "cell_type": "code",
   "execution_count": 3,
   "metadata": {},
   "outputs": [
    {
     "name": "stdout",
     "output_type": "stream",
     "text": [
      "Total Images in Training set: 670\n",
      "Randomly Selected Images: 16, their IDs: [u'3ab9cab6212fabd723a2c5a1949c2ded19980398b56e6080978e796f45cbbc90', u'2817299fd3b88670e86a9db5651ba24333c299d1d41e5491aabfcd95aee84174', u'fc345dac2205deb169bd70197f07f053bada80b61ffa69fdfb490758323ead69', u'f81ca7ee25e733ff37240c34c8e3044d9937bb0166e315952ebde3f237ecb86f', u'cfabf7379c5591d40aa4a20c86b4197c6a25ab55887a9fca4f06c2dfc0f0e973', u'4193474b2f1c72f735b13633b219d9cabdd43c21d9c2bb4dfc4809f104ba4c06', u'8f27ebc74164eddfe989a98a754dcf5a9c85ef599a1321de24bcf097df1814ca', u'45f059cf21d85ecfce0eb93260516f1e2443d210e9a52f9ae2271d604aa3fcc5', u'337b6eed0726f07531cd467cd62b6676c31a8c9e716bdbc49433986c022252cf', u'f113626a04125d97b27f21b45a0ce9a686d73dee7b5dbc0725d49194ba0203bd', u'e5f8ad0f0a43af8ca57e31e16800108abdfb44a7e962a71d246f72d2dbde42bf', u'a0325cb7aa59e9c0a75e64ba26855d8032c46161aa4bca0c01bac5e4a836485e', u'2e172afb1f43b359f1f0208da9386aefe97c0c1afe202abfe6ec09cdca820990', u'3874755f6222e83006fdad4d664ec0d9697c13af4fbe24b2f9a059bb13075186', u'615985773f1469fbc00915b3e82d1d4942051c09ddea2667e37ad361ed2e9d59', u'e4537e7893e631f3ba6ae5b1023e24b233c78249a31c2f5e561f6c4cad88fcf6']\n"
     ]
    }
   ],
   "source": [
    "import numpy as np\n",
    "import pandas as pd\n",
    "import random\n",
    "import skimage.io\n",
    "import matplotlib.pyplot as plt\n",
    "from subprocess import check_output\n",
    "from skimage import morphology\n",
    "from skimage.viewer import ImageViewer\n",
    "\n",
    "# print(check_output([\"ls\", \"../data/\"]).decode(\"utf8\"))\n",
    "\n",
    "def read_image_labels(image_id):\n",
    "    # most of the content in this function is taken from 'Example Metric Implementation' kernel \n",
    "    # by 'William Cukierski'\n",
    "    image_file = \"../data/stage1_train/{}/images/{}.png\".format(image_id,image_id)\n",
    "    mask_file = \"../data/stage1_train/{}/masks/*.png\".format(image_id)\n",
    "    image = skimage.io.imread(image_file)\n",
    "    masks = skimage.io.imread_collection(mask_file).concatenate()    \n",
    "    height, width, _ = image.shape\n",
    "    num_masks = masks.shape[0]\n",
    "    maxValue = np.max(image)\n",
    "    for index in range(0, num_masks):\n",
    "        contour = np.logical_xor(masks[index], morphology.binary_erosion(masks[index]) )\n",
    "        image[contour > 0] = maxValue\n",
    "    return image\n",
    "\n",
    "def plot_images_masks(image_ids):\n",
    "    plt.close('all')\n",
    "    fig, ax = plt.subplots(nrows=len(image_ids),ncols=1, figsize=(256,256))\n",
    "    \n",
    "    for ax_index, image_id in enumerate(image_ids):\n",
    "        image = read_image_labels(image_id)\n",
    "        ax[ax_index].imshow(image)\n",
    "\n",
    "\n",
    "image_ids = check_output([\"ls\", \"../data/stage1_train/\"]).decode(\"utf8\").split()\n",
    "print(\"Total Images in Training set: {}\".format(len(image_ids)))\n",
    "random_image_ids = random.sample(image_ids, 16)\n",
    "print(\"Randomly Selected Images: {}, their IDs: {}\".format(len(random_image_ids), random_image_ids))\n",
    "plot_images_masks(random_image_ids)\n"
   ]
  },
  {
   "cell_type": "code",
   "execution_count": null,
   "metadata": {
    "collapsed": true
   },
   "outputs": [],
   "source": []
  }
 ],
 "metadata": {
  "kernelspec": {
   "display_name": "Python 2",
   "language": "python",
   "name": "python2"
  },
  "language_info": {
   "codemirror_mode": {
    "name": "ipython",
    "version": 2
   },
   "file_extension": ".py",
   "mimetype": "text/x-python",
   "name": "python",
   "nbconvert_exporter": "python",
   "pygments_lexer": "ipython2",
   "version": "2.7.13"
  }
 },
 "nbformat": 4,
 "nbformat_minor": 2
}
